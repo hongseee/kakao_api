{
 "cells": [
  {
   "cell_type": "code",
   "execution_count": 1,
   "source": [
    "import numpy as np\n",
    "import requests\n",
    "\n"
   ],
   "outputs": [],
   "metadata": {}
  },
  {
   "cell_type": "markdown",
   "source": [
    "## 주소 변환\n",
    "- 카카오 api(https://developers.kakao.com/docs/latest/ko/local/dev-guide) 활용\n",
    "    - 주소 검색 url : https://dapi.kakao.com/v2/local/search/address.json\n",
    "    - 키워드 검색 url : https://dapi.kakao.com/v2/local/search/keyword.json\n",
    "    - 좌표 -> 주소 변환 url : https://dapi.kakao.com/v2/local/geo/coord2address.json"
   ],
   "metadata": {}
  },
  {
   "cell_type": "code",
   "execution_count": 2,
   "source": [
    "def kakaoAddress(my_token, address):\n",
    "    '''\n",
    "    input \n",
    "     - adress : 검색 주소\n",
    "    output \n",
    "     - 시명, 구명, 동명, 위도, 경도가 들어있는 딕셔너리\n",
    "    '''\n",
    "    url = \"https://dapi.kakao.com/v2/local/search/address.json\"\n",
    "\n",
    "    # method = 'GET'\n",
    "    params = {'query' : address}\n",
    "    header = {'authorization' : my_token}\n",
    "\n",
    "    response = requests.get(url, headers=header, params=params)\n",
    "    tokens = response.json()\n",
    "#     print(tokens)\n",
    "    \n",
    "    document = {}\n",
    "    if tokens['documents'] != []:   # 카카오_주소검색 api 호출 결과 있을 경우 \n",
    "\n",
    "        if tokens['documents'][0]['address'] != None:\n",
    "            address_info = tokens['documents'][0]['address']\n",
    "        else :\n",
    "            address_info = tokens['documents'][0]['road_address']\n",
    "\n",
    "        document['시명'] = address_info['region_1depth_name']\n",
    "        document['구명'] = address_info['region_2depth_name']\n",
    "        document['동명'] = address_info['region_3depth_name']\n",
    "        document['위도'] = address_info['y']\n",
    "        document['경도'] = address_info['x']\n",
    "\n",
    "    return document"
   ],
   "outputs": [],
   "metadata": {}
  },
  {
   "cell_type": "code",
   "execution_count": 6,
   "source": [
    "def kakaoKeyword(my_token, address):\n",
    "    url_keyword = \"https://dapi.kakao.com/v2/local/search/keyword.json\"\n",
    "    url_coord = \"https://dapi.kakao.com/v2/local/geo/coord2address.json\"\n",
    "    \n",
    "    \n",
    "    header = {'authorization' : my_token}\n",
    "    params = {'query' : address}\n",
    "    \n",
    "    response = requests.get(url_keyword, headers=header, params=params)\n",
    "    tokens = response.json()\n",
    "    \n",
    "    document = {} \n",
    "    \n",
    "    if tokens['documents'] != []:   # 카카오_키워드검색 api 호출 결과 있을 경우 \n",
    "        lat = 0\n",
    "        lng = 0\n",
    "        \n",
    "        for token in tokens['documents']:\n",
    "            if '주거시설' in token['category_name']:\n",
    "                lat = token['y']\n",
    "                lng = token['x']\n",
    "                break\n",
    "            else : \n",
    "                pass\n",
    "\n",
    "        if lat == 0:\n",
    "            lat = tokens['documents'][0]['y']\n",
    "            lng = tokens['documents'][0]['x'] \n",
    "        \n",
    "        params = { 'y' : lat, 'x':lng }\n",
    "        response = requests.get(url_coord, headers=header, params=params)\n",
    "        tokens = response.json()\n",
    "#         print(token)\n",
    "        address_info = tokens['documents'][0]['address']\n",
    "#         print(address_info)\n",
    "        try: \n",
    "            document['시명'] = address_info['region_1depth_name']\n",
    "            document['구명'] = address_info['region_2depth_name']\n",
    "            document['동명'] = address_info['region_3depth_name'] \n",
    "        except :\n",
    "            pass\n",
    "        document['위도'] = lat\n",
    "        document['경도'] = lng    \n",
    "    \n",
    "    return document"
   ],
   "outputs": [],
   "metadata": {}
  },
  {
   "cell_type": "code",
   "execution_count": 7,
   "source": [
    "kakaoKeyword(my_token, '서울역')"
   ],
   "outputs": [
    {
     "output_type": "execute_result",
     "data": {
      "text/plain": [
       "{'시명': '서울',\n",
       " '구명': '중구',\n",
       " '동명': '만리동2가',\n",
       " '위도': '37.554724533455605',\n",
       " '경도': '126.9632574928214'}"
      ]
     },
     "metadata": {},
     "execution_count": 7
    }
   ],
   "metadata": {}
  },
  {
   "cell_type": "code",
   "execution_count": null,
   "source": [],
   "outputs": [],
   "metadata": {}
  },
  {
   "cell_type": "code",
   "execution_count": null,
   "source": [],
   "outputs": [],
   "metadata": {}
  },
  {
   "cell_type": "code",
   "execution_count": null,
   "source": [],
   "outputs": [],
   "metadata": {}
  }
 ],
 "metadata": {
  "kernelspec": {
   "name": "python3",
   "display_name": "Python 3.9.7 64-bit"
  },
  "language_info": {
   "codemirror_mode": {
    "name": "ipython",
    "version": 3
   },
   "file_extension": ".py",
   "mimetype": "text/x-python",
   "name": "python",
   "nbconvert_exporter": "python",
   "pygments_lexer": "ipython3",
   "version": "3.9.7"
  },
  "toc": {
   "base_numbering": 1,
   "nav_menu": {},
   "number_sections": true,
   "sideBar": true,
   "skip_h1_title": false,
   "title_cell": "Table of Contents",
   "title_sidebar": "Contents",
   "toc_cell": false,
   "toc_position": {},
   "toc_section_display": true,
   "toc_window_display": false
  },
  "interpreter": {
   "hash": "4cd7ab41f5fca4b9b44701077e38c5ffd31fe66a6cab21e0214b68d958d0e462"
  }
 },
 "nbformat": 4,
 "nbformat_minor": 5
}